{
 "cells": [
  {
   "cell_type": "markdown",
   "metadata": {},
   "source": [
    "# Configuración de motores\n",
    "\n",
    "🟢 Motores Virtuales Conectados\\\n",
    "🟢 Motores Físicos Conectados\\\n",
    "🟢 f: Reset to zero\\\n",
    "🟢 f: Timed back and forth\\\n",
    "🟢 f: Keyboard activated Joystick\\\n",
    "🟢 f: Signal activated back and forth\\\n",
    "🔴 Stepper Rotor\\\n",
    "🔴 Parametrización\\\n",
    "🔴 In: Generador de Pulsos\\\n",
    "🔴 Sincronización"
   ]
  },
  {
   "cell_type": "markdown",
   "metadata": {},
   "source": [
    "## Librerías"
   ]
  },
  {
   "cell_type": "markdown",
   "metadata": {},
   "source": [
    "### Descarga"
   ]
  },
  {
   "cell_type": "code",
   "execution_count": 2,
   "metadata": {},
   "outputs": [
    {
     "name": "stdout",
     "output_type": "stream",
     "text": [
      "Requirement already satisfied: libximc in c:\\users\\iangr\\appdata\\local\\programs\\python\\python312\\lib\\site-packages (2.14.27)\n",
      "Note: you may need to restart the kernel to use updated packages.\n",
      "Requirement already satisfied: matplotlib in c:\\users\\iangr\\appdata\\local\\programs\\python\\python312\\lib\\site-packages (3.9.0)\n",
      "Requirement already satisfied: contourpy>=1.0.1 in c:\\users\\iangr\\appdata\\local\\programs\\python\\python312\\lib\\site-packages (from matplotlib) (1.2.1)\n",
      "Requirement already satisfied: cycler>=0.10 in c:\\users\\iangr\\appdata\\local\\programs\\python\\python312\\lib\\site-packages (from matplotlib) (0.12.1)\n",
      "Requirement already satisfied: fonttools>=4.22.0 in c:\\users\\iangr\\appdata\\local\\programs\\python\\python312\\lib\\site-packages (from matplotlib) (4.53.0)\n",
      "Requirement already satisfied: kiwisolver>=1.3.1 in c:\\users\\iangr\\appdata\\local\\programs\\python\\python312\\lib\\site-packages (from matplotlib) (1.4.5)\n",
      "Requirement already satisfied: numpy>=1.23 in c:\\users\\iangr\\appdata\\local\\programs\\python\\python312\\lib\\site-packages (from matplotlib) (1.26.4)\n",
      "Requirement already satisfied: packaging>=20.0 in c:\\users\\iangr\\appdata\\local\\programs\\python\\python312\\lib\\site-packages (from matplotlib) (23.2)\n",
      "Requirement already satisfied: pillow>=8 in c:\\users\\iangr\\appdata\\local\\programs\\python\\python312\\lib\\site-packages (from matplotlib) (10.4.0)\n",
      "Requirement already satisfied: pyparsing>=2.3.1 in c:\\users\\iangr\\appdata\\local\\programs\\python\\python312\\lib\\site-packages (from matplotlib) (3.1.2)\n",
      "Requirement already satisfied: python-dateutil>=2.7 in c:\\users\\iangr\\appdata\\local\\programs\\python\\python312\\lib\\site-packages (from matplotlib) (2.8.2)\n",
      "Requirement already satisfied: six>=1.5 in c:\\users\\iangr\\appdata\\local\\programs\\python\\python312\\lib\\site-packages (from python-dateutil>=2.7->matplotlib) (1.16.0)\n",
      "Note: you may need to restart the kernel to use updated packages.\n",
      "Requirement already satisfied: keyboard in c:\\users\\iangr\\appdata\\local\\programs\\python\\python312\\lib\\site-packages (0.13.5)\n",
      "Note: you may need to restart the kernel to use updated packages.\n"
     ]
    }
   ],
   "source": [
    "%pip install libximc\n",
    "%pip install matplotlib\n",
    "%pip install keyboard"
   ]
  },
  {
   "cell_type": "markdown",
   "metadata": {},
   "source": [
    "### Importar librerías"
   ]
  },
  {
   "cell_type": "code",
   "execution_count": 1,
   "metadata": {},
   "outputs": [],
   "source": [
    "import pathlib, os, time\n",
    "import matplotlib.pyplot as plt\n",
    "import libximc.highlevel as ximc\n",
    "import keyboard, threading"
   ]
  },
  {
   "cell_type": "markdown",
   "metadata": {},
   "source": [
    "## Funciones"
   ]
  },
  {
   "cell_type": "markdown",
   "metadata": {},
   "source": [
    "### Respuesta de teclado"
   ]
  },
  {
   "cell_type": "code",
   "execution_count": 2,
   "metadata": {},
   "outputs": [],
   "source": [
    "def on_key_press(event):\n",
    "    pass\n",
    "\n",
    "\n",
    "def keyboard_listener():\n",
    "    hook = keyboard.on_press(on_key_press)\n",
    "    keyboard.wait('esc')\n",
    "    keyboard.unhook(hook)"
   ]
  },
  {
   "cell_type": "markdown",
   "metadata": {},
   "source": [
    "### Parametrización de motores"
   ]
  },
  {
   "cell_type": "code",
   "execution_count": 3,
   "metadata": {},
   "outputs": [],
   "source": [
    "# A posición cero\n",
    "def home(axis):\n",
    "    axis.command_move(0, 0)\n",
    "    axis.command_wait_for_stop(100)\n",
    "\n",
    "\n",
    "def movimiento_axial(axis, pasos, sleep, direccion):\n",
    "    axis.command_movr(pasos*direccion, 0)\n",
    "    axis.command_wait_for_stop(sleep)\n",
    "\n",
    "\n",
    "def movimiento_angular(motor, grados, velocidad, f_l_posicion):\n",
    "    motor.set_speed(velocidad)\n",
    "    motor.move_to(grados)\n",
    "    motor.wait_for_stop()\n",
    "\n",
    "\n",
    "def parametrizacion(l_axis_1, l_paso, l_sleep, l_axis_2, init, direccion, a_axis=None, a_paso=None, a_sleep=None):\n",
    "    if any(param is not None for param in [a_axis, a_paso, a_sleep]) and not all(param is not None for param in [a_axis, a_paso, a_sleep]):\n",
    "        raise ValueError(\"Si se proporcionan parámetros de movimiento angular, deben ingresarse todos: 'a_axis', 'a_paso' y 'a_sleep'.\")\n",
    "    if not init:\n",
    "        home(l_axis_1)\n",
    "        print(\"Axis_1 in home\")\n",
    "        home(l_axis_2)\n",
    "        print(\"Axis_2 in home\")\n",
    "        if a_axis is not None:\n",
    "            home(a_axis)\n",
    "        init = True\n",
    "    \n",
    "    l_posicion_1 = l_axis_1.get_position().Position\n",
    "    if l_posicion_1 >= 1000-l_paso and direccion == 1:\n",
    "        direccion = -1\n",
    "    elif l_posicion_1 <= 0+l_paso and direccion == -1:\n",
    "        direccion = 1\n",
    "    movimiento_axial(l_axis_1, l_paso, l_sleep, direccion)\n",
    "    print(l_posicion_1)\n",
    "    l_posicion_2 = l_axis_1.get_position().Position\n",
    "\n",
    "    if a_axis is not None:\n",
    "        a_posicion = a_axis.get_position().Position\n",
    "        f_l_posicion = lambda x: x*l_axis_1.get_position().Position\n",
    "        movimiento_angular(a_axis, a_paso, a_sleep, f_l_posicion)\n",
    "    \n",
    "    if l_posicion_2-l_posicion_1 > 0:\n",
    "        direccion = 1\n",
    "    elif l_posicion_2-l_posicion_1 < 0:\n",
    "        direccion = -1\n",
    "    return direccion"
   ]
  },
  {
   "cell_type": "markdown",
   "metadata": {},
   "source": [
    "## A. Controlador Virtual"
   ]
  },
  {
   "cell_type": "code",
   "execution_count": 4,
   "metadata": {},
   "outputs": [],
   "source": [
    "virtual_device_filename_1 = \"virtual_motor_controller_1.bin\"\n",
    "virtual_device_file_path_1 = os.path.join(\n",
    "    pathlib.Path().cwd(),\n",
    "    virtual_device_filename_1\n",
    ")\n",
    "\n",
    "virtual_device_filename_2 = \"virtual_motor_controller_2.bin\"\n",
    "virtual_device_file_path_2 = os.path.join(\n",
    "    pathlib.Path().cwd(),\n",
    "    virtual_device_filename_2\n",
    ")\n",
    "\n",
    "\n",
    "device_uri_1 = \"xi-emu:///{}\".format(virtual_device_file_path_1)\n",
    "device_uri_2 = \"xi-emu:///{}\".format(virtual_device_file_path_2)\n",
    "\n",
    "axis_1 = ximc.Axis(device_uri_1)\n",
    "axis_2 = ximc.Axis(device_uri_2)"
   ]
  },
  {
   "cell_type": "markdown",
   "metadata": {},
   "source": [
    "## B. Controlador físico"
   ]
  },
  {
   "cell_type": "markdown",
   "metadata": {},
   "source": [
    "### Búsqueda"
   ]
  },
  {
   "cell_type": "code",
   "execution_count": 3,
   "metadata": {},
   "outputs": [
    {
     "name": "stdout",
     "output_type": "stream",
     "text": [
      "No encontrado\n"
     ]
    }
   ],
   "source": [
    "devices = ximc.enumerate_devices(\n",
    "    ximc.EnumerateFlags.ENUMERATE_NETWORK |\n",
    "    ximc.EnumerateFlags.ENUMERATE_PROBE\n",
    ")\n",
    "\n",
    "if len(devices) == 0:\n",
    "    print(\"No encontrado\")\n",
    "else:\n",
    "    # Print real devices list\n",
    "    print(\"Found {} real device(s):\".format(len(devices)))\n",
    "    for device in devices:\n",
    "        print(\"  {}\".format(device))"
   ]
  },
  {
   "cell_type": "markdown",
   "metadata": {},
   "source": [
    "### Instancia"
   ]
  },
  {
   "cell_type": "code",
   "execution_count": 4,
   "metadata": {},
   "outputs": [],
   "source": [
    "# WINDOWS\n",
    "device_uri_1 = r\"xi-com:\\\\.\\COM3\" #URI aparece al abrir XILabs\n",
    "device_uri_2 = r\"xi-com:\\\\.\\COM4\" #URI aparece al abrir XILabs\n",
    "\n",
    "# LINUX/MAC\n",
    "#device_uri_1 = r\"xi-com:///dev/ttyACM29\"\n",
    "#device_uri_2 = r\"xi-com:///dev/ttyACM30\"\n",
    "\n",
    "axis_1 = ximc.Axis(device_uri_1)\n",
    "axis_2 = ximc.Axis(device_uri_2)"
   ]
  },
  {
   "cell_type": "markdown",
   "metadata": {},
   "source": [
    "## Demos\n",
    "- A posiciones específicas\n",
    "- Se va en vola"
   ]
  },
  {
   "cell_type": "code",
   "execution_count": 22,
   "metadata": {},
   "outputs": [
    {
     "name": "stdout",
     "output_type": "stream",
     "text": [
      "Initial position: 0\n",
      "Move to position: 100\n",
      "Moving...\n",
      "Current position: 100\n",
      "Move to position: 50\n",
      "Moving...\n",
      "Current position: 50\n",
      "Perform a relative shift by 100\n",
      "So we are going to 50 + 100  = 150\n",
      "Moving...\n",
      "Current position: 141\n",
      "Perform a relative shift by -150\n",
      "So we are going to 141 + ( -150 ) = -9\n",
      "Moving...\n",
      "Current position: -8\n",
      "Done\n"
     ]
    }
   ],
   "source": [
    "axis_1.open_device()\n",
    "\n",
    "# ==== Set current position as zero ====\n",
    "axis_1.command_zero()\n",
    "\n",
    "# Object instances should be passed by reference\n",
    "position = axis_1.get_position()\n",
    "print(\"Initial position:\", position.Position)\n",
    "\n",
    "\n",
    "# ==== Move to the first absolute position (X = 100) ====\n",
    "next_position = 100\n",
    "print(\"Move to position:\", next_position)\n",
    "axis_1.command_move(next_position, 0)\n",
    "\n",
    "print(\"Moving...\")\n",
    "axis_1.command_wait_for_stop(100)\n",
    "\n",
    "position = axis_1.get_position()\n",
    "print(\"Current position:\", position.Position)\n",
    "\n",
    "\n",
    "# ==== Move to the second absolute position (X = 50) ====\n",
    "next_position = 50\n",
    "print(\"Move to position:\", next_position)\n",
    "axis_1.command_move(next_position, 0)\n",
    "\n",
    "print(\"Moving...\")\n",
    "axis_1.command_wait_for_stop(100)\n",
    "\n",
    "position = axis_1.get_position()\n",
    "print(\"Current position:\", position.Position)\n",
    "\n",
    "\n",
    "# ==== Perform a relative shift by 100 ====\n",
    "relative_shift = 100\n",
    "print(\"Perform a relative shift by\", relative_shift)\n",
    "print(\"So we are going to\", position.Position, \"+\", relative_shift,\n",
    "      \" =\", position.Position + relative_shift)\n",
    "axis_1.command_movr(relative_shift, 0)\n",
    "\n",
    "print(\"Moving...\")\n",
    "axis_1.command_wait_for_stop(100)\n",
    "\n",
    "position = axis_1.get_position()\n",
    "print(\"Current position:\", position.Position)\n",
    "\n",
    "\n",
    "# ==== Perform a relative shift by -150 ====\n",
    "relative_shift = -150\n",
    "print(\"Perform a relative shift by\", relative_shift)\n",
    "print(\"So we are going to\", position.Position, \"+ (\", relative_shift,\n",
    "      \") =\", position.Position + relative_shift)\n",
    "axis_1.command_movr(relative_shift, 0)\n",
    "\n",
    "print(\"Moving...\")\n",
    "axis_1.command_wait_for_stop(100)\n",
    "\n",
    "position = axis_1.get_position()\n",
    "print(\"Current position:\", position.Position)\n",
    "\n",
    "axis_1.close_device()\n",
    "print(\"Done\")"
   ]
  },
  {
   "cell_type": "code",
   "execution_count": 23,
   "metadata": {},
   "outputs": [
    {
     "ename": "ConnectionError",
     "evalue": "Cannot connect to device via URI='xi-com:\\\\.\\COM4'\n\t* check URI. For URI format see documentation for open_device() on https://libximc.xisupport.com/doc-en/\n\t* check whether it's connected to computer physically, powered and not occupied by another app\n",
     "output_type": "error",
     "traceback": [
      "\u001b[1;31m---------------------------------------------------------------------------\u001b[0m",
      "\u001b[1;31mConnectionError\u001b[0m                           Traceback (most recent call last)",
      "Cell \u001b[1;32mIn[23], line 1\u001b[0m\n\u001b[1;32m----> 1\u001b[0m \u001b[43maxis_2\u001b[49m\u001b[38;5;241;43m.\u001b[39;49m\u001b[43mopen_device\u001b[49m\u001b[43m(\u001b[49m\u001b[43m)\u001b[49m\n\u001b[0;32m      3\u001b[0m positions \u001b[38;5;241m=\u001b[39m []\n\u001b[0;32m      4\u001b[0m timestamps_s \u001b[38;5;241m=\u001b[39m []\n",
      "File \u001b[1;32mc:\\Users\\iangr\\AppData\\Local\\Programs\\Python\\Python312\\Lib\\site-packages\\libximc\\highlevel\\_highlevel.py:1640\u001b[0m, in \u001b[0;36mAxis.open_device\u001b[1;34m(self)\u001b[0m\n\u001b[0;32m   1638\u001b[0m device_id \u001b[38;5;241m=\u001b[39m lib\u001b[38;5;241m.\u001b[39mopen_device(\u001b[38;5;28mself\u001b[39m\u001b[38;5;241m.\u001b[39muri\u001b[38;5;241m.\u001b[39mencode())\n\u001b[0;32m   1639\u001b[0m \u001b[38;5;28;01mif\u001b[39;00m (device_id \u001b[38;5;241m<\u001b[39m \u001b[38;5;241m0\u001b[39m):\n\u001b[1;32m-> 1640\u001b[0m     \u001b[38;5;28;01mraise\u001b[39;00m \u001b[38;5;167;01mConnectionError\u001b[39;00m(\n\u001b[0;32m   1641\u001b[0m         \u001b[38;5;124m\"\u001b[39m\u001b[38;5;124mCannot connect to device via URI=\u001b[39m\u001b[38;5;124m'\u001b[39m\u001b[38;5;132;01m{}\u001b[39;00m\u001b[38;5;124m'\u001b[39m\u001b[38;5;130;01m\\n\u001b[39;00m\u001b[38;5;124m\"\u001b[39m\n\u001b[0;32m   1642\u001b[0m         \u001b[38;5;124m\"\u001b[39m\u001b[38;5;130;01m\\t\u001b[39;00m\u001b[38;5;124m* check URI. For URI format see documentation for open_device() on \u001b[39m\u001b[38;5;124m\"\u001b[39m\n\u001b[0;32m   1643\u001b[0m         \u001b[38;5;124m\"\u001b[39m\u001b[38;5;124mhttps://libximc.xisupport.com/doc-en/\u001b[39m\u001b[38;5;130;01m\\n\u001b[39;00m\u001b[38;5;124m\"\u001b[39m\n\u001b[0;32m   1644\u001b[0m         \u001b[38;5;124m\"\u001b[39m\u001b[38;5;130;01m\\t\u001b[39;00m\u001b[38;5;124m* check whether it\u001b[39m\u001b[38;5;124m'\u001b[39m\u001b[38;5;124ms connected to computer physically, powered and not occupied by another app\u001b[39m\u001b[38;5;130;01m\\n\u001b[39;00m\u001b[38;5;124m\"\u001b[39m\n\u001b[0;32m   1645\u001b[0m         \u001b[38;5;241m.\u001b[39mformat(\u001b[38;5;28mself\u001b[39m\u001b[38;5;241m.\u001b[39muri)\n\u001b[0;32m   1646\u001b[0m     )\n\u001b[0;32m   1647\u001b[0m \u001b[38;5;28mself\u001b[39m\u001b[38;5;241m.\u001b[39m_device_id: \u001b[38;5;28mint\u001b[39m \u001b[38;5;241m=\u001b[39m device_id\n\u001b[0;32m   1648\u001b[0m \u001b[38;5;28mself\u001b[39m\u001b[38;5;241m.\u001b[39m_is_opened: \u001b[38;5;28mbool\u001b[39m \u001b[38;5;241m=\u001b[39m \u001b[38;5;28;01mTrue\u001b[39;00m\n",
      "\u001b[1;31mConnectionError\u001b[0m: Cannot connect to device via URI='xi-com:\\\\.\\COM4'\n\t* check URI. For URI format see documentation for open_device() on https://libximc.xisupport.com/doc-en/\n\t* check whether it's connected to computer physically, powered and not occupied by another app\n"
     ]
    }
   ],
   "source": [
    "axis_2.open_device()\n",
    "\n",
    "positions = []\n",
    "timestamps_s = []\n",
    "\n",
    "# ==== Shift the stage ====\n",
    "next_position = 4000\n",
    "print(\"Move to position:\", next_position)\n",
    "axis_2.command_move(next_position, 0)\n",
    "\n",
    "print(\"Moving...\")\n",
    "\n",
    "t_start_s = time.time()\n",
    "\n",
    "# We will move for 2 s with current speed. Then we will increase the speed.\n",
    "while (time.time() < t_start_s + 2):\n",
    "    position = axis_2.get_position()\n",
    "\n",
    "    # Do some job during the motion\n",
    "    positions.append(position.Position)\n",
    "    timestamps_s.append(time.time() - t_start_s)\n",
    "\n",
    "    time.sleep(0.1)\n",
    "\n",
    "    # Update status for the next check of the loop condition\n",
    "    statux = axis_2.get_status()\n",
    "\n",
    "\n",
    "# Increase the speed on the fly\n",
    "move_settings = axis_2.get_move_settings()\n",
    "move_settings.Speed *= 4\n",
    "move_settings.Accel *= 4\n",
    "move_settings.Decel *= 4\n",
    "axis_2.set_move_settings(move_settings)\n",
    "print(\"Speed increased 4 times\")\n",
    "\n",
    "# Wait until the end of the motion\n",
    "status = axis_2.get_status()\n",
    "while status.MvCmdSts & ximc.MvcmdStatus.MVCMD_RUNNING:\n",
    "    position = axis_2.get_position()\n",
    "\n",
    "    # Do some job during the motion\n",
    "    positions.append(position.Position)\n",
    "    timestamps_s.append(time.time() - t_start_s)\n",
    "\n",
    "    time.sleep(0.1)\n",
    "\n",
    "    # Update status for the next check of the loop condition\n",
    "    status = axis_2.get_status()\n",
    "\n",
    "\n",
    "# ==== Shift the stage back ====\n",
    "# Decrease the speed\n",
    "move_settings = axis_2.get_move_settings()\n",
    "move_settings.Speed //= 8\n",
    "axis_2.set_move_settings(move_settings)\n",
    "print(\"Speed decreased 8 times\")\n",
    "\n",
    "next_position = 0\n",
    "print(\"Move to position:\", next_position)\n",
    "axis_2.command_move(next_position, 0)\n",
    "\n",
    "print(\"Moving...\")\n",
    "\n",
    "# Check axis_1 motion status in a loop\n",
    "status = axis_2.get_status()\n",
    "while status.MvCmdSts & ximc.MvcmdStatus.MVCMD_RUNNING:\n",
    "    position = axis_1.get_position()\n",
    "\n",
    "    # Do some job during the motion\n",
    "    positions.append(position.Position)\n",
    "    timestamps_s.append(time.time() - t_start_s)\n",
    "\n",
    "    time.sleep(0.1)\n",
    "\n",
    "    # Update status for the next check of the loop condition\n",
    "    status = axis_1.get_status()\n",
    "\n",
    "\n",
    "print(\"Movement finished\")\n",
    "\n",
    "\n",
    "print(\"Set initial speed\")\n",
    "move_settings = axis_1.get_move_settings()\n",
    "move_settings.Speed *= 2\n",
    "move_settings.Accel //= 4\n",
    "move_settings.Decel //= 4\n",
    "axis_2.set_move_settings(move_settings)\n",
    "\n",
    "axis_2.close_device()\n",
    "\n",
    "# ==== Plot motion profile ====\n",
    "plt.plot(timestamps_s, positions)\n",
    "plt.axvline(2, linestyle=\"dotted\")\n",
    "plt.xlabel(\"Time, s\")\n",
    "plt.ylabel(\"Position, steps\")\n",
    "plt.show()"
   ]
  },
  {
   "cell_type": "markdown",
   "metadata": {},
   "source": [
    "## A lo que nos compete"
   ]
  },
  {
   "cell_type": "markdown",
   "metadata": {},
   "source": [
    "### Timed Back and Forth"
   ]
  },
  {
   "cell_type": "code",
   "execution_count": 6,
   "metadata": {},
   "outputs": [
    {
     "name": "stdout",
     "output_type": "stream",
     "text": [
      "Initial position: 0\n",
      "Current position: 200\n",
      "Current position: 500\n",
      "Current position: 800\n",
      "Current position: 1100\n",
      "Current position: 1400\n",
      "Current position: 1700\n",
      "Current position: 2000\n",
      "Current position: 2300\n",
      "Current position: 2600\n",
      "Current position: 2900\n",
      "Current position: 3200\n",
      "Current position: 3500\n",
      "Current position: 3800\n",
      "Current position: 4100\n",
      "Current position: 4400\n",
      "Current position: 4700\n",
      "Current position: 5000\n",
      "Current position: 5300\n",
      "Current position: 5000\n",
      "Current position: 4700\n",
      "Current position: 4400\n",
      "Current position: 4100\n",
      "Current position: 3800\n",
      "Current position: 3500\n",
      "Current position: 3200\n",
      "Current position: 2900\n",
      "Current position: 2600\n",
      "Current position: 2300\n",
      "Current position: 2000\n",
      "Current position: 1700\n",
      "Current position: 1400\n",
      "Current position: 1100\n",
      "Current position: 800\n",
      "Current position: 500\n"
     ]
    }
   ],
   "source": [
    "# Move axis_1 to position 0\n",
    "axis_1.open_device()\n",
    "axis_1.command_move(0, 0)\n",
    "axis_1.command_wait_for_stop(100)\n",
    "init_position = axis_1.get_position().Position\n",
    "print(\"Initial position:\", init_position)\n",
    "position = 200\n",
    "# Move axis_1 to position 5000 with step 300\n",
    "while position <= 5000:\n",
    "    axis_1.command_move(position, 0)\n",
    "    axis_1.command_wait_for_stop(100)\n",
    "    position += 300\n",
    "    print(\"Current position:\", axis_1.get_position().Position)\n",
    "\n",
    "# Move axis_1 to position 0 with step 300\n",
    "while position >= 300:\n",
    "    axis_1.command_move(position, 0)\n",
    "    axis_1.command_wait_for_stop(100)\n",
    "    position -= 300\n",
    "    print(\"Current position:\", axis_1.get_position().Position)\n",
    "axis_1.command_move(0, 0)\n",
    "axis_1.close_device()"
   ]
  },
  {
   "cell_type": "markdown",
   "metadata": {},
   "source": [
    "### Joystick"
   ]
  },
  {
   "cell_type": "code",
   "execution_count": 5,
   "metadata": {},
   "outputs": [
    {
     "name": "stdout",
     "output_type": "stream",
     "text": [
      "left\n",
      "left\n",
      "left\n",
      "left\n",
      "left\n",
      "left\n",
      "right\n",
      "right\n",
      "right\n",
      "right\n",
      "right\n",
      "right\n",
      "right\n",
      "right\n",
      "right\n",
      "left\n",
      "left\n",
      "left\n",
      "left\n",
      "left\n",
      "left\n",
      "left\n",
      "left\n",
      "left\n",
      "left\n",
      "left\n",
      "left\n",
      "left\n",
      "down\n",
      "up\n",
      "up\n",
      "up\n",
      "up\n",
      "up\n",
      "up\n",
      "up\n",
      "up\n",
      "up\n",
      "up\n",
      "up\n",
      "up\n",
      "up\n",
      "up\n",
      "up\n",
      "up\n",
      "up\n",
      "up\n",
      "up\n",
      "up\n",
      "up\n",
      "up\n",
      "up\n",
      "up\n",
      "up\n",
      "up\n"
     ]
    }
   ],
   "source": [
    "listener = threading.Thread(target=keyboard_listener)\n",
    "listener.start()\n",
    "\n",
    "axis_1.open_device()\n",
    "axis_2.open_device()\n",
    "while listener.is_alive():\n",
    "    if keyboard.is_pressed('up'):\n",
    "        axis_1.command_movr(100, 0)\n",
    "        axis_1.command_wait_for_stop(100)\n",
    "        print(\"up\")\n",
    "    if keyboard.is_pressed('down'):\n",
    "        axis_1.command_movr(-100, 0)\n",
    "        axis_1.command_wait_for_stop(100)\n",
    "        print(\"down\")\n",
    "    if keyboard.is_pressed('right'):\n",
    "        axis_2.command_movr(100, 0)\n",
    "        axis_2.command_wait_for_stop(100)\n",
    "        print(\"right\")\n",
    "    if keyboard.is_pressed('left'):\n",
    "        axis_2.command_movr(-100, 0)\n",
    "        axis_2.command_wait_for_stop(100)\n",
    "        print(\"left\")\n",
    "axis_1.close_device()\n",
    "axis_2.close_device()"
   ]
  },
  {
   "cell_type": "markdown",
   "metadata": {},
   "source": [
    "### Signal based Back and Forth"
   ]
  },
  {
   "cell_type": "code",
   "execution_count": 8,
   "metadata": {},
   "outputs": [
    {
     "name": "stdout",
     "output_type": "stream",
     "text": [
      "Axis_1 in home\n",
      "Axis_2 in home\n",
      "0\n",
      "100\n",
      "200\n",
      "300\n",
      "400\n",
      "500\n",
      "600\n",
      "700\n",
      "800\n",
      "900\n",
      "800\n",
      "700\n",
      "600\n",
      "500\n",
      "400\n",
      "300\n",
      "200\n",
      "100\n",
      "200\n",
      "300\n",
      "400\n",
      "500\n",
      "600\n",
      "700\n",
      "800\n",
      "900\n",
      "800\n",
      "700\n",
      "600\n",
      "500\n",
      "400\n",
      "300\n",
      "200\n",
      "100\n",
      "200\n",
      "300\n",
      "400\n",
      "500\n",
      "600\n",
      "700\n",
      "800\n",
      "900\n",
      "800\n",
      "700\n",
      "600\n",
      "500\n",
      "400\n",
      "300\n",
      "200\n",
      "100\n",
      "200\n",
      "300\n",
      "400\n",
      "500\n",
      "600\n",
      "700\n",
      "800\n",
      "900\n"
     ]
    }
   ],
   "source": [
    "listener = threading.Thread(target=keyboard_listener)\n",
    "listener.start()\n",
    "a_axis = 1\n",
    "axis_1.open_device()\n",
    "axis_2.open_device()\n",
    "init = False\n",
    "while listener.is_alive():\n",
    "    if keyboard.is_pressed('f'):\n",
    "        if not init:\n",
    "            direccion_anterior = parametrizacion(l_axis_1=axis_1, l_paso=100, l_sleep=100, l_axis_2=axis_2, init=init, direccion=1)\n",
    "            init = True\n",
    "        else:\n",
    "            direccion_nueva = parametrizacion(l_axis_1=axis_1, l_paso=100, l_sleep=100, l_axis_2=axis_2, init=init, direccion = direccion_anterior)\n",
    "            direccion_anterior = direccion_nueva\n",
    "axis_1.close_device()\n",
    "axis_2.close_device()"
   ]
  },
  {
   "cell_type": "code",
   "execution_count": null,
   "metadata": {},
   "outputs": [],
   "source": []
  }
 ],
 "metadata": {
  "kernelspec": {
   "display_name": "Python 3",
   "language": "python",
   "name": "python3"
  },
  "language_info": {
   "codemirror_mode": {
    "name": "ipython",
    "version": 3
   },
   "file_extension": ".py",
   "mimetype": "text/x-python",
   "name": "python",
   "nbconvert_exporter": "python",
   "pygments_lexer": "ipython3",
   "version": "3.12.0"
  }
 },
 "nbformat": 4,
 "nbformat_minor": 2
}
